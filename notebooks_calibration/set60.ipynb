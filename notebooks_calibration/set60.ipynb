{
 "cells": [
  {
   "cell_type": "code",
   "id": "initial_id",
   "metadata": {
    "collapsed": true,
    "ExecuteTime": {
     "end_time": "2024-12-05T08:11:19.311387Z",
     "start_time": "2024-12-05T08:11:12.002677Z"
    }
   },
   "source": [
    "from model import Model\n",
    "\n",
    "train_data_dir = \"../data/train_data_chest_xray_set_60\"\n",
    "test_data_dir = \"../data/chest_xray/test\"\n",
    "train_val_split_ratio = 0.8\n",
    "\n",
    "model = Model(learning_rate=None, batch_size=32, patience_early_stopping=None,\n",
    "              patience_reduce_learning_rate=None,\n",
    "              factor_reduce_learning_rate=None, train_dir=train_data_dir,\n",
    "              weight_decay=None, momentum=None, test_dir=test_data_dir,\n",
    "              train_val_split_ratio=train_val_split_ratio)\n",
    "model.load_existing_model(\"../models/model_set_60.pth\")"
   ],
   "outputs": [
    {
     "ename": "TypeError",
     "evalue": "'<' not supported between instances of 'NoneType' and 'float'",
     "output_type": "error",
     "traceback": [
      "\u001B[0;31m---------------------------------------------------------------------------\u001B[0m",
      "\u001B[0;31mTypeError\u001B[0m                                 Traceback (most recent call last)",
      "Cell \u001B[0;32mIn[1], line 7\u001B[0m\n\u001B[1;32m      4\u001B[0m test_data_dir \u001B[38;5;241m=\u001B[39m \u001B[38;5;124m\"\u001B[39m\u001B[38;5;124m../data/chest_xray/test\u001B[39m\u001B[38;5;124m\"\u001B[39m\n\u001B[1;32m      5\u001B[0m train_val_split_ratio \u001B[38;5;241m=\u001B[39m \u001B[38;5;241m0.8\u001B[39m\n\u001B[0;32m----> 7\u001B[0m model \u001B[38;5;241m=\u001B[39m \u001B[43mModel\u001B[49m\u001B[43m(\u001B[49m\u001B[43mlearning_rate\u001B[49m\u001B[38;5;241;43m=\u001B[39;49m\u001B[38;5;28;43;01mNone\u001B[39;49;00m\u001B[43m,\u001B[49m\u001B[43m \u001B[49m\u001B[43mbatch_size\u001B[49m\u001B[38;5;241;43m=\u001B[39;49m\u001B[38;5;241;43m32\u001B[39;49m\u001B[43m,\u001B[49m\u001B[43m \u001B[49m\u001B[43mpatience_early_stopping\u001B[49m\u001B[38;5;241;43m=\u001B[39;49m\u001B[38;5;28;43;01mNone\u001B[39;49;00m\u001B[43m,\u001B[49m\n\u001B[1;32m      8\u001B[0m \u001B[43m              \u001B[49m\u001B[43mpatience_reduce_learning_rate\u001B[49m\u001B[38;5;241;43m=\u001B[39;49m\u001B[38;5;28;43;01mNone\u001B[39;49;00m\u001B[43m,\u001B[49m\n\u001B[1;32m      9\u001B[0m \u001B[43m              \u001B[49m\u001B[43mfactor_reduce_learning_rate\u001B[49m\u001B[38;5;241;43m=\u001B[39;49m\u001B[38;5;28;43;01mNone\u001B[39;49;00m\u001B[43m,\u001B[49m\u001B[43m \u001B[49m\u001B[43mtrain_dir\u001B[49m\u001B[38;5;241;43m=\u001B[39;49m\u001B[43mtrain_data_dir\u001B[49m\u001B[43m,\u001B[49m\n\u001B[1;32m     10\u001B[0m \u001B[43m              \u001B[49m\u001B[43mweight_decay\u001B[49m\u001B[38;5;241;43m=\u001B[39;49m\u001B[38;5;28;43;01mNone\u001B[39;49;00m\u001B[43m,\u001B[49m\u001B[43m \u001B[49m\u001B[43mmomentum\u001B[49m\u001B[38;5;241;43m=\u001B[39;49m\u001B[38;5;28;43;01mNone\u001B[39;49;00m\u001B[43m,\u001B[49m\u001B[43m \u001B[49m\u001B[43mtest_dir\u001B[49m\u001B[38;5;241;43m=\u001B[39;49m\u001B[43mtest_data_dir\u001B[49m\u001B[43m,\u001B[49m\n\u001B[1;32m     11\u001B[0m \u001B[43m              \u001B[49m\u001B[43mtrain_val_split_ratio\u001B[49m\u001B[38;5;241;43m=\u001B[39;49m\u001B[43mtrain_val_split_ratio\u001B[49m\u001B[43m)\u001B[49m\n\u001B[1;32m     12\u001B[0m model\u001B[38;5;241m.\u001B[39mload_existing_model(\u001B[38;5;124m\"\u001B[39m\u001B[38;5;124m../models/model_set_60.pth\u001B[39m\u001B[38;5;124m\"\u001B[39m)\n",
      "File \u001B[0;32m~/PycharmProjects/ModelCalibrationDeepLearning/model.py:57\u001B[0m, in \u001B[0;36mModel.__init__\u001B[0;34m(self, learning_rate, batch_size, patience_early_stopping, patience_reduce_learning_rate, factor_reduce_learning_rate, train_dir, test_dir, train_val_split_ratio, weight_decay, momentum)\u001B[0m\n\u001B[1;32m     55\u001B[0m \u001B[38;5;66;03m# Loss function and optimizer\u001B[39;00m\n\u001B[1;32m     56\u001B[0m \u001B[38;5;28mself\u001B[39m\u001B[38;5;241m.\u001B[39mcriterion \u001B[38;5;241m=\u001B[39m nn\u001B[38;5;241m.\u001B[39mCrossEntropyLoss(label_smoothing\u001B[38;5;241m=\u001B[39m\u001B[38;5;241m0.1\u001B[39m)\n\u001B[0;32m---> 57\u001B[0m \u001B[38;5;28mself\u001B[39m\u001B[38;5;241m.\u001B[39moptimizer \u001B[38;5;241m=\u001B[39m \u001B[43moptim\u001B[49m\u001B[38;5;241;43m.\u001B[39;49m\u001B[43mSGD\u001B[49m\u001B[43m(\u001B[49m\u001B[38;5;28;43mself\u001B[39;49m\u001B[38;5;241;43m.\u001B[39;49m\u001B[43mmodel\u001B[49m\u001B[38;5;241;43m.\u001B[39;49m\u001B[43mparameters\u001B[49m\u001B[43m(\u001B[49m\u001B[43m)\u001B[49m\u001B[43m,\u001B[49m\u001B[43m \u001B[49m\u001B[43mlr\u001B[49m\u001B[38;5;241;43m=\u001B[39;49m\u001B[43mlearning_rate\u001B[49m\u001B[43m,\u001B[49m\u001B[43m \u001B[49m\u001B[43mmomentum\u001B[49m\u001B[38;5;241;43m=\u001B[39;49m\u001B[43mmomentum\u001B[49m\u001B[43m,\u001B[49m\n\u001B[1;32m     58\u001B[0m \u001B[43m                           \u001B[49m\u001B[43mweight_decay\u001B[49m\u001B[38;5;241;43m=\u001B[39;49m\u001B[43mweight_decay\u001B[49m\u001B[43m)\u001B[49m\n\u001B[1;32m     60\u001B[0m \u001B[38;5;28mself\u001B[39m\u001B[38;5;241m.\u001B[39mpatience_early_stopping \u001B[38;5;241m=\u001B[39m patience_early_stopping\n\u001B[1;32m     62\u001B[0m \u001B[38;5;66;03m# Learning rate scheduler\u001B[39;00m\n",
      "File \u001B[0;32m~/PycharmProjects/ModelCalibrationDeepLearning/venev/lib/python3.10/site-packages/torch/optim/sgd.py:14\u001B[0m, in \u001B[0;36mSGD.__init__\u001B[0;34m(self, params, lr, momentum, dampening, weight_decay, nesterov, maximize, foreach, differentiable)\u001B[0m\n\u001B[1;32m     11\u001B[0m \u001B[38;5;28;01mdef\u001B[39;00m \u001B[38;5;21m__init__\u001B[39m(\u001B[38;5;28mself\u001B[39m, params, lr\u001B[38;5;241m=\u001B[39m\u001B[38;5;241m1e-3\u001B[39m, momentum\u001B[38;5;241m=\u001B[39m\u001B[38;5;241m0\u001B[39m, dampening\u001B[38;5;241m=\u001B[39m\u001B[38;5;241m0\u001B[39m,\n\u001B[1;32m     12\u001B[0m              weight_decay\u001B[38;5;241m=\u001B[39m\u001B[38;5;241m0\u001B[39m, nesterov\u001B[38;5;241m=\u001B[39m\u001B[38;5;28;01mFalse\u001B[39;00m, \u001B[38;5;241m*\u001B[39m, maximize: \u001B[38;5;28mbool\u001B[39m \u001B[38;5;241m=\u001B[39m \u001B[38;5;28;01mFalse\u001B[39;00m, foreach: Optional[\u001B[38;5;28mbool\u001B[39m] \u001B[38;5;241m=\u001B[39m \u001B[38;5;28;01mNone\u001B[39;00m,\n\u001B[1;32m     13\u001B[0m              differentiable: \u001B[38;5;28mbool\u001B[39m \u001B[38;5;241m=\u001B[39m \u001B[38;5;28;01mFalse\u001B[39;00m):\n\u001B[0;32m---> 14\u001B[0m     \u001B[38;5;28;01mif\u001B[39;00m \u001B[43mlr\u001B[49m\u001B[43m \u001B[49m\u001B[38;5;241;43m<\u001B[39;49m\u001B[43m \u001B[49m\u001B[38;5;241;43m0.0\u001B[39;49m:\n\u001B[1;32m     15\u001B[0m         \u001B[38;5;28;01mraise\u001B[39;00m \u001B[38;5;167;01mValueError\u001B[39;00m(\u001B[38;5;124mf\u001B[39m\u001B[38;5;124m\"\u001B[39m\u001B[38;5;124mInvalid learning rate: \u001B[39m\u001B[38;5;132;01m{\u001B[39;00mlr\u001B[38;5;132;01m}\u001B[39;00m\u001B[38;5;124m\"\u001B[39m)\n\u001B[1;32m     16\u001B[0m     \u001B[38;5;28;01mif\u001B[39;00m momentum \u001B[38;5;241m<\u001B[39m \u001B[38;5;241m0.0\u001B[39m:\n",
      "\u001B[0;31mTypeError\u001B[0m: '<' not supported between instances of 'NoneType' and 'float'"
     ]
    }
   ],
   "execution_count": 1
  },
  {
   "metadata": {},
   "cell_type": "code",
   "outputs": [],
   "execution_count": null,
   "source": "",
   "id": "c68588ccecf6c190"
  }
 ],
 "metadata": {
  "kernelspec": {
   "display_name": "Python 3",
   "language": "python",
   "name": "python3"
  },
  "language_info": {
   "codemirror_mode": {
    "name": "ipython",
    "version": 2
   },
   "file_extension": ".py",
   "mimetype": "text/x-python",
   "name": "python",
   "nbconvert_exporter": "python",
   "pygments_lexer": "ipython2",
   "version": "2.7.6"
  }
 },
 "nbformat": 4,
 "nbformat_minor": 5
}
